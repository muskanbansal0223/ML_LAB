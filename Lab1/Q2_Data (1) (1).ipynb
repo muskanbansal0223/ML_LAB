{
 "cells": [
  {
   "cell_type": "code",
   "execution_count": 1,
   "metadata": {},
   "outputs": [],
   "source": [
    "#Data \n",
    "revenue = [14574.49, 7606.46, 8611.41, 9175.41, 8058.65, 8105.44, 11496.28, 9766.09, 10305.32, 14379.96, 10713.97, 15433.50]\n",
    "expenses = [12051.82, 5695.07, 12319.20, 12089.72, 8658.57, 840.20, 3285.73, 5821.12, 6976.93, 16618.61, 10054.37, 3803.96]"
   ]
  },
  {
   "cell_type": "code",
   "execution_count": 2,
   "metadata": {},
   "outputs": [],
   "source": [
    "import numpy as np"
   ]
  },
  {
   "cell_type": "code",
   "execution_count": 3,
   "metadata": {},
   "outputs": [
    {
     "name": "stdout",
     "output_type": "stream",
     "text": [
      "1)Profit Per Month:\n",
      " [ 2522.67  1911.39 -3707.79 -2914.31  -599.92  7265.24  8210.55  3944.97\n",
      "  3328.39 -2238.65   659.6  11629.54]\n"
     ]
    }
   ],
   "source": [
    "revenue = np.array(revenue)\n",
    "expenses = np.array(expenses)\n",
    "profit_per_month = revenue - expenses\n",
    "print(\"1)Profit Per Month:\\n\", profit_per_month )"
   ]
  },
  {
   "cell_type": "code",
   "execution_count": 4,
   "metadata": {},
   "outputs": [
    {
     "name": "stdout",
     "output_type": "stream",
     "text": [
      "2)Profit After Tax:\n",
      " [-1849.677  -370.548 -6291.213 -5666.933 -3017.515  4833.608  4761.666\n",
      "  1015.143   236.794 -6552.638 -2554.591  6999.49 ]\n"
     ]
    }
   ],
   "source": [
    "profit_after_tax = profit_per_month - 0.3*revenue \n",
    "print(\"2)Profit After Tax:\\n\", profit_after_tax  )"
   ]
  },
  {
   "cell_type": "code",
   "execution_count": 5,
   "metadata": {},
   "outputs": [
    {
     "name": "stdout",
     "output_type": "stream",
     "text": [
      "3)Profit Margin:\n",
      " [-12.69119537  -4.87149081 -73.05671197 -61.76217738 -37.44442307\n",
      "  59.63412227  41.41918951  10.39456937   2.29778406 -45.56784581\n",
      " -23.84355192  45.35257719]\n"
     ]
    }
   ],
   "source": [
    "profit_margin = (profit_after_tax/revenue)*100\n",
    "print(\"3)Profit Margin:\\n\", profit_margin  )"
   ]
  },
  {
   "cell_type": "code",
   "execution_count": 6,
   "metadata": {},
   "outputs": [
    {
     "name": "stdout",
     "output_type": "stream",
     "text": [
      "4)Mean: -704.7011666666664\n",
      " Good Month:/n\n"
     ]
    },
    {
     "data": {
      "text/plain": [
       "{2: -370.5479999999998,\n",
       " 6: 4833.608,\n",
       " 7: 4761.666000000001,\n",
       " 8: 1015.1430000000005,\n",
       " 9: 236.79399999999941,\n",
       " 12: 6999.490000000001}"
      ]
     },
     "execution_count": 6,
     "metadata": {},
     "output_type": "execute_result"
    }
   ],
   "source": [
    "m= np.mean(profit_after_tax)\n",
    "l=len(profit_after_tax)\n",
    "print(\"4)Mean:\", m)\n",
    "goodmonth = {x+1: profit_after_tax[x] for x in range(0,l) if profit_after_tax[x]>m}\n",
    "print(\" Good Month:/n\")\n",
    "goodmonth\n"
   ]
  },
  {
   "cell_type": "code",
   "execution_count": null,
   "metadata": {},
   "outputs": [],
   "source": []
  },
  {
   "cell_type": "code",
   "execution_count": null,
   "metadata": {},
   "outputs": [],
   "source": []
  }
 ],
 "metadata": {
  "kernelspec": {
   "display_name": "Python 3 (ipykernel)",
   "language": "python",
   "name": "python3"
  },
  "language_info": {
   "codemirror_mode": {
    "name": "ipython",
    "version": 3
   },
   "file_extension": ".py",
   "mimetype": "text/x-python",
   "name": "python",
   "nbconvert_exporter": "python",
   "pygments_lexer": "ipython3",
   "version": "3.10.2"
  }
 },
 "nbformat": 4,
 "nbformat_minor": 1
}
