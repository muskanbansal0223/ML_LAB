{
 "cells": [
  {
   "cell_type": "code",
   "execution_count": 1,
   "id": "485911ff",
   "metadata": {},
   "outputs": [],
   "source": [
    "import numpy as np\n"
   ]
  },
  {
   "cell_type": "code",
   "execution_count": 2,
   "id": "4868f6f2",
   "metadata": {},
   "outputs": [],
   "source": [
    "def LawOfLarge(n):\n",
    "   \n",
    "    d=np.random.normal(0,1,int(n))\n",
    "    count=0\n",
    "    ans=0\n",
    "    for i in d:\n",
    "        if i>-1 and i<1:\n",
    "            count += 1\n",
    "            ans=count/int(n)*100\n",
    "    return ans"
   ]
  },
  {
   "cell_type": "code",
   "execution_count": 3,
   "id": "b80314f8",
   "metadata": {},
   "outputs": [
    {
     "data": {
      "text/plain": [
       "68.27234375"
      ]
     },
     "execution_count": 3,
     "metadata": {},
     "output_type": "execute_result"
    }
   ],
   "source": [
    "LawOfLarge(640000)"
   ]
  },
  {
   "cell_type": "code",
   "execution_count": null,
   "id": "10370906",
   "metadata": {},
   "outputs": [],
   "source": []
  },
  {
   "cell_type": "code",
   "execution_count": null,
   "id": "7082494c",
   "metadata": {},
   "outputs": [],
   "source": []
  }
 ],
 "metadata": {
  "kernelspec": {
   "display_name": "Python 3 (ipykernel)",
   "language": "python",
   "name": "python3"
  },
  "language_info": {
   "codemirror_mode": {
    "name": "ipython",
    "version": 3
   },
   "file_extension": ".py",
   "mimetype": "text/x-python",
   "name": "python",
   "nbconvert_exporter": "python",
   "pygments_lexer": "ipython3",
   "version": "3.10.2"
  }
 },
 "nbformat": 4,
 "nbformat_minor": 5
}
